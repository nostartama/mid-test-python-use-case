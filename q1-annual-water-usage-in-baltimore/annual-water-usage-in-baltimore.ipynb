{
 "cells": [
  {
   "cell_type": "markdown",
   "metadata": {},
   "source": [
    "### Library"
   ]
  },
  {
   "cell_type": "code",
   "execution_count": 26,
   "metadata": {},
   "outputs": [],
   "source": [
    "import pandas as pd\n",
    "import seaborn as sns\n",
    "sns.set_style(\"whitegrid\")\n",
    "import matplotlib.pyplot as plt\n",
    "%matplotlib inline\n",
    "from math import sqrt\n",
    "import warnings\n",
    "warnings.filterwarnings(\"ignore\")"
   ]
  },
  {
   "cell_type": "code",
   "execution_count": 27,
   "metadata": {},
   "outputs": [
    {
     "name": "stderr",
     "output_type": "stream",
     "text": [
      "b'Skipping line 82: expected 2 fields, saw 3\\n'\n"
     ]
    }
   ],
   "source": [
    "df = pd.read_csv('D:/MATERI/10102019-MIDTEST/q1-annual-water-usage-in-baltimore/water.csv', error_bad_lines=False)"
   ]
  },
  {
   "cell_type": "code",
   "execution_count": 28,
   "metadata": {},
   "outputs": [
    {
     "data": {
      "text/html": [
       "<div>\n",
       "<style scoped>\n",
       "    .dataframe tbody tr th:only-of-type {\n",
       "        vertical-align: middle;\n",
       "    }\n",
       "\n",
       "    .dataframe tbody tr th {\n",
       "        vertical-align: top;\n",
       "    }\n",
       "\n",
       "    .dataframe thead th {\n",
       "        text-align: right;\n",
       "    }\n",
       "</style>\n",
       "<table border=\"1\" class=\"dataframe\">\n",
       "  <thead>\n",
       "    <tr style=\"text-align: right;\">\n",
       "      <th></th>\n",
       "      <th>year</th>\n",
       "      <th>baltimore-liters-percapita-perday</th>\n",
       "    </tr>\n",
       "  </thead>\n",
       "  <tbody>\n",
       "    <tr>\n",
       "      <td>0</td>\n",
       "      <td>1885</td>\n",
       "      <td>356</td>\n",
       "    </tr>\n",
       "    <tr>\n",
       "      <td>1</td>\n",
       "      <td>1886</td>\n",
       "      <td>386</td>\n",
       "    </tr>\n",
       "    <tr>\n",
       "      <td>2</td>\n",
       "      <td>1887</td>\n",
       "      <td>397</td>\n",
       "    </tr>\n",
       "    <tr>\n",
       "      <td>3</td>\n",
       "      <td>1888</td>\n",
       "      <td>397</td>\n",
       "    </tr>\n",
       "    <tr>\n",
       "      <td>4</td>\n",
       "      <td>1889</td>\n",
       "      <td>413</td>\n",
       "    </tr>\n",
       "  </tbody>\n",
       "</table>\n",
       "</div>"
      ],
      "text/plain": [
       "   year  baltimore-liters-percapita-perday\n",
       "0  1885                                356\n",
       "1  1886                                386\n",
       "2  1887                                397\n",
       "3  1888                                397\n",
       "4  1889                                413"
      ]
     },
     "execution_count": 28,
     "metadata": {},
     "output_type": "execute_result"
    }
   ],
   "source": [
    "df.columns=['year','baltimore-liters-percapita-perday']\n",
    "df.head()"
   ]
  },
  {
   "cell_type": "code",
   "execution_count": 29,
   "metadata": {},
   "outputs": [
    {
     "data": {
      "text/plain": [
       "(79, 2)"
      ]
     },
     "execution_count": 29,
     "metadata": {},
     "output_type": "execute_result"
    }
   ],
   "source": [
    "df.shape"
   ]
  },
  {
   "cell_type": "markdown",
   "metadata": {},
   "source": [
    "### I. Load the dataset as a Pandas Series and split into two, one for model development (dataset.csv) and the other for validation (validation.csv)."
   ]
  },
  {
   "cell_type": "code",
   "execution_count": 30,
   "metadata": {},
   "outputs": [],
   "source": [
    "#dataset = df.sample(frac=0.5, random_state=99)\n",
    "#validation = df.loc[~df.index.isin(dataset.index), :]"
   ]
  },
  {
   "cell_type": "code",
   "execution_count": 31,
   "metadata": {},
   "outputs": [],
   "source": [
    "dataset = df[:40]\n",
    "validation = df[40:]"
   ]
  },
  {
   "cell_type": "code",
   "execution_count": 32,
   "metadata": {},
   "outputs": [],
   "source": [
    "dataset.to_csv('dataset.csv')\n",
    "validation.to_csv('validation.csv')"
   ]
  },
  {
   "cell_type": "code",
   "execution_count": 33,
   "metadata": {},
   "outputs": [
    {
     "data": {
      "text/html": [
       "<div>\n",
       "<style scoped>\n",
       "    .dataframe tbody tr th:only-of-type {\n",
       "        vertical-align: middle;\n",
       "    }\n",
       "\n",
       "    .dataframe tbody tr th {\n",
       "        vertical-align: top;\n",
       "    }\n",
       "\n",
       "    .dataframe thead th {\n",
       "        text-align: right;\n",
       "    }\n",
       "</style>\n",
       "<table border=\"1\" class=\"dataframe\">\n",
       "  <thead>\n",
       "    <tr style=\"text-align: right;\">\n",
       "      <th></th>\n",
       "      <th>year</th>\n",
       "      <th>baltimore-liters-percapita-perday</th>\n",
       "    </tr>\n",
       "  </thead>\n",
       "  <tbody>\n",
       "    <tr>\n",
       "      <td>0</td>\n",
       "      <td>1885</td>\n",
       "      <td>356</td>\n",
       "    </tr>\n",
       "    <tr>\n",
       "      <td>1</td>\n",
       "      <td>1886</td>\n",
       "      <td>386</td>\n",
       "    </tr>\n",
       "    <tr>\n",
       "      <td>2</td>\n",
       "      <td>1887</td>\n",
       "      <td>397</td>\n",
       "    </tr>\n",
       "    <tr>\n",
       "      <td>3</td>\n",
       "      <td>1888</td>\n",
       "      <td>397</td>\n",
       "    </tr>\n",
       "    <tr>\n",
       "      <td>4</td>\n",
       "      <td>1889</td>\n",
       "      <td>413</td>\n",
       "    </tr>\n",
       "  </tbody>\n",
       "</table>\n",
       "</div>"
      ],
      "text/plain": [
       "   year  baltimore-liters-percapita-perday\n",
       "0  1885                                356\n",
       "1  1886                                386\n",
       "2  1887                                397\n",
       "3  1888                                397\n",
       "4  1889                                413"
      ]
     },
     "execution_count": 33,
     "metadata": {},
     "output_type": "execute_result"
    }
   ],
   "source": [
    "dataset.head()"
   ]
  },
  {
   "cell_type": "code",
   "execution_count": 34,
   "metadata": {},
   "outputs": [
    {
     "data": {
      "text/html": [
       "<div>\n",
       "<style scoped>\n",
       "    .dataframe tbody tr th:only-of-type {\n",
       "        vertical-align: middle;\n",
       "    }\n",
       "\n",
       "    .dataframe tbody tr th {\n",
       "        vertical-align: top;\n",
       "    }\n",
       "\n",
       "    .dataframe thead th {\n",
       "        text-align: right;\n",
       "    }\n",
       "</style>\n",
       "<table border=\"1\" class=\"dataframe\">\n",
       "  <thead>\n",
       "    <tr style=\"text-align: right;\">\n",
       "      <th></th>\n",
       "      <th>year</th>\n",
       "      <th>baltimore-liters-percapita-perday</th>\n",
       "    </tr>\n",
       "  </thead>\n",
       "  <tbody>\n",
       "    <tr>\n",
       "      <td>74</td>\n",
       "      <td>1959</td>\n",
       "      <td>594</td>\n",
       "    </tr>\n",
       "    <tr>\n",
       "      <td>75</td>\n",
       "      <td>1960</td>\n",
       "      <td>587</td>\n",
       "    </tr>\n",
       "    <tr>\n",
       "      <td>76</td>\n",
       "      <td>1961</td>\n",
       "      <td>587</td>\n",
       "    </tr>\n",
       "    <tr>\n",
       "      <td>77</td>\n",
       "      <td>1962</td>\n",
       "      <td>625</td>\n",
       "    </tr>\n",
       "    <tr>\n",
       "      <td>78</td>\n",
       "      <td>1963</td>\n",
       "      <td>613</td>\n",
       "    </tr>\n",
       "  </tbody>\n",
       "</table>\n",
       "</div>"
      ],
      "text/plain": [
       "    year  baltimore-liters-percapita-perday\n",
       "74  1959                                594\n",
       "75  1960                                587\n",
       "76  1961                                587\n",
       "77  1962                                625\n",
       "78  1963                                613"
      ]
     },
     "execution_count": 34,
     "metadata": {},
     "output_type": "execute_result"
    }
   ],
   "source": [
    "validation.tail()"
   ]
  },
  {
   "cell_type": "markdown",
   "metadata": {},
   "source": [
    "### II. Create summary of the dataset, with python function."
   ]
  },
  {
   "cell_type": "code",
   "execution_count": 35,
   "metadata": {},
   "outputs": [
    {
     "data": {
      "text/html": [
       "<div>\n",
       "<style scoped>\n",
       "    .dataframe tbody tr th:only-of-type {\n",
       "        vertical-align: middle;\n",
       "    }\n",
       "\n",
       "    .dataframe tbody tr th {\n",
       "        vertical-align: top;\n",
       "    }\n",
       "\n",
       "    .dataframe thead th {\n",
       "        text-align: right;\n",
       "    }\n",
       "</style>\n",
       "<table border=\"1\" class=\"dataframe\">\n",
       "  <thead>\n",
       "    <tr style=\"text-align: right;\">\n",
       "      <th></th>\n",
       "      <th>year</th>\n",
       "      <th>baltimore-liters-percapita-perday</th>\n",
       "    </tr>\n",
       "  </thead>\n",
       "  <tbody>\n",
       "    <tr>\n",
       "      <td>count</td>\n",
       "      <td>40.000000</td>\n",
       "      <td>40.000000</td>\n",
       "    </tr>\n",
       "    <tr>\n",
       "      <td>mean</td>\n",
       "      <td>1904.500000</td>\n",
       "      <td>472.325000</td>\n",
       "    </tr>\n",
       "    <tr>\n",
       "      <td>std</td>\n",
       "      <td>11.690452</td>\n",
       "      <td>67.456876</td>\n",
       "    </tr>\n",
       "    <tr>\n",
       "      <td>min</td>\n",
       "      <td>1885.000000</td>\n",
       "      <td>344.000000</td>\n",
       "    </tr>\n",
       "    <tr>\n",
       "      <td>25%</td>\n",
       "      <td>1894.750000</td>\n",
       "      <td>438.000000</td>\n",
       "    </tr>\n",
       "    <tr>\n",
       "      <td>50%</td>\n",
       "      <td>1904.500000</td>\n",
       "      <td>471.000000</td>\n",
       "    </tr>\n",
       "    <tr>\n",
       "      <td>75%</td>\n",
       "      <td>1914.250000</td>\n",
       "      <td>503.000000</td>\n",
       "    </tr>\n",
       "    <tr>\n",
       "      <td>max</td>\n",
       "      <td>1924.000000</td>\n",
       "      <td>662.000000</td>\n",
       "    </tr>\n",
       "  </tbody>\n",
       "</table>\n",
       "</div>"
      ],
      "text/plain": [
       "              year  baltimore-liters-percapita-perday\n",
       "count    40.000000                          40.000000\n",
       "mean   1904.500000                         472.325000\n",
       "std      11.690452                          67.456876\n",
       "min    1885.000000                         344.000000\n",
       "25%    1894.750000                         438.000000\n",
       "50%    1904.500000                         471.000000\n",
       "75%    1914.250000                         503.000000\n",
       "max    1924.000000                         662.000000"
      ]
     },
     "execution_count": 35,
     "metadata": {},
     "output_type": "execute_result"
    }
   ],
   "source": [
    "dataset.describe()"
   ]
  },
  {
   "cell_type": "markdown",
   "metadata": {},
   "source": [
    "### III. Create A line plot of a time series dataset, it will provide a lot of insight into the problem."
   ]
  },
  {
   "cell_type": "code",
   "execution_count": 36,
   "metadata": {},
   "outputs": [
    {
     "data": {
      "image/png": "[encoded data removed]",
      "text/plain": [
       "<matplotlib.figure.Figure at 0x2101fc1aa90>"
      ]
     },
     "metadata": {},
     "output_type": "display_data"
    }
   ],
   "source": [
    "plt.figure(figsize=(16,5))\n",
    "ax = sns.lineplot(x=\"year\", y=\"baltimore-liters-percapita-perday\",data=dataset).set_title('Baltimore water used per capita in 1885-1924')\n"
   ]
  },
  {
   "cell_type": "markdown",
   "metadata": {},
   "source": [
    "Hal yang menarik adalah pola lonjakan yang tiba-tiba terjadi. Hal ini dapat terlihat dari dataset (gambar atas), misalnya pada kisaran 1885, lalu terjadi lonjakan pada 1890. Setelah itu, dari 1895 sampai 1910 terjadi peningkatan, lalu terjadi lagi lonjakan pada kisaran 1915. Lalu apabila dilihat dari data validasi (gambar bawah), juga terjadi lonjakan tiba-tiba setelah beberapa tahun. Selanjutnya kita akan melihat per dekadenya."
   ]
  },
  {
   "cell_type": "code",
   "execution_count": 37,
   "metadata": {},
   "outputs": [
    {
     "data": {
      "image/png": "[encoded data removed]",
      "text/plain": [
       "<matplotlib.figure.Figure at 0x2101d96c390>"
      ]
     },
     "metadata": {},
     "output_type": "display_data"
    }
   ],
   "source": [
    "plt.figure(figsize=(16,5))\n",
    "ax = sns.lineplot(x=\"year\", y=\"baltimore-liters-percapita-perday\",data=validation).set_title('Baltimore water used per capita in 1925-1963')"
   ]
  },
  {
   "cell_type": "markdown",
   "metadata": {},
   "source": [
    "### IV. Group the annual data by decade and get an idea of the spread of observations for each decade and how this may be changing."
   ]
  },
  {
   "cell_type": "code",
   "execution_count": 38,
   "metadata": {},
   "outputs": [],
   "source": [
    "labels = [\"{0} - {1}\".format(i, i + 9) for i in range(1885, 1963, 10)]\n",
    "dataset['decade'] = pd.cut(df.year, range(1885, 1968, 10), right=False, labels=labels)"
   ]
  },
  {
   "cell_type": "code",
   "execution_count": 39,
   "metadata": {},
   "outputs": [
    {
     "data": {
      "text/html": [
       "<div>\n",
       "<style scoped>\n",
       "    .dataframe tbody tr th:only-of-type {\n",
       "        vertical-align: middle;\n",
       "    }\n",
       "\n",
       "    .dataframe tbody tr th {\n",
       "        vertical-align: top;\n",
       "    }\n",
       "\n",
       "    .dataframe thead th {\n",
       "        text-align: right;\n",
       "    }\n",
       "</style>\n",
       "<table border=\"1\" class=\"dataframe\">\n",
       "  <thead>\n",
       "    <tr style=\"text-align: right;\">\n",
       "      <th></th>\n",
       "      <th>year</th>\n",
       "      <th>baltimore-liters-percapita-perday</th>\n",
       "      <th>decade</th>\n",
       "    </tr>\n",
       "  </thead>\n",
       "  <tbody>\n",
       "    <tr>\n",
       "      <td>0</td>\n",
       "      <td>1885</td>\n",
       "      <td>356</td>\n",
       "      <td>1885 - 1894</td>\n",
       "    </tr>\n",
       "    <tr>\n",
       "      <td>1</td>\n",
       "      <td>1886</td>\n",
       "      <td>386</td>\n",
       "      <td>1885 - 1894</td>\n",
       "    </tr>\n",
       "    <tr>\n",
       "      <td>2</td>\n",
       "      <td>1887</td>\n",
       "      <td>397</td>\n",
       "      <td>1885 - 1894</td>\n",
       "    </tr>\n",
       "    <tr>\n",
       "      <td>3</td>\n",
       "      <td>1888</td>\n",
       "      <td>397</td>\n",
       "      <td>1885 - 1894</td>\n",
       "    </tr>\n",
       "    <tr>\n",
       "      <td>4</td>\n",
       "      <td>1889</td>\n",
       "      <td>413</td>\n",
       "      <td>1885 - 1894</td>\n",
       "    </tr>\n",
       "    <tr>\n",
       "      <td>5</td>\n",
       "      <td>1890</td>\n",
       "      <td>458</td>\n",
       "      <td>1885 - 1894</td>\n",
       "    </tr>\n",
       "    <tr>\n",
       "      <td>6</td>\n",
       "      <td>1891</td>\n",
       "      <td>485</td>\n",
       "      <td>1885 - 1894</td>\n",
       "    </tr>\n",
       "    <tr>\n",
       "      <td>7</td>\n",
       "      <td>1892</td>\n",
       "      <td>344</td>\n",
       "      <td>1885 - 1894</td>\n",
       "    </tr>\n",
       "    <tr>\n",
       "      <td>8</td>\n",
       "      <td>1893</td>\n",
       "      <td>390</td>\n",
       "      <td>1885 - 1894</td>\n",
       "    </tr>\n",
       "    <tr>\n",
       "      <td>9</td>\n",
       "      <td>1894</td>\n",
       "      <td>360</td>\n",
       "      <td>1885 - 1894</td>\n",
       "    </tr>\n",
       "    <tr>\n",
       "      <td>10</td>\n",
       "      <td>1895</td>\n",
       "      <td>420</td>\n",
       "      <td>1895 - 1904</td>\n",
       "    </tr>\n",
       "    <tr>\n",
       "      <td>11</td>\n",
       "      <td>1896</td>\n",
       "      <td>435</td>\n",
       "      <td>1895 - 1904</td>\n",
       "    </tr>\n",
       "    <tr>\n",
       "      <td>12</td>\n",
       "      <td>1897</td>\n",
       "      <td>439</td>\n",
       "      <td>1895 - 1904</td>\n",
       "    </tr>\n",
       "    <tr>\n",
       "      <td>13</td>\n",
       "      <td>1898</td>\n",
       "      <td>454</td>\n",
       "      <td>1895 - 1904</td>\n",
       "    </tr>\n",
       "    <tr>\n",
       "      <td>14</td>\n",
       "      <td>1899</td>\n",
       "      <td>462</td>\n",
       "      <td>1895 - 1904</td>\n",
       "    </tr>\n",
       "    <tr>\n",
       "      <td>15</td>\n",
       "      <td>1900</td>\n",
       "      <td>454</td>\n",
       "      <td>1895 - 1904</td>\n",
       "    </tr>\n",
       "    <tr>\n",
       "      <td>16</td>\n",
       "      <td>1901</td>\n",
       "      <td>469</td>\n",
       "      <td>1895 - 1904</td>\n",
       "    </tr>\n",
       "    <tr>\n",
       "      <td>17</td>\n",
       "      <td>1902</td>\n",
       "      <td>500</td>\n",
       "      <td>1895 - 1904</td>\n",
       "    </tr>\n",
       "    <tr>\n",
       "      <td>18</td>\n",
       "      <td>1903</td>\n",
       "      <td>492</td>\n",
       "      <td>1895 - 1904</td>\n",
       "    </tr>\n",
       "    <tr>\n",
       "      <td>19</td>\n",
       "      <td>1904</td>\n",
       "      <td>473</td>\n",
       "      <td>1895 - 1904</td>\n",
       "    </tr>\n",
       "    <tr>\n",
       "      <td>20</td>\n",
       "      <td>1905</td>\n",
       "      <td>458</td>\n",
       "      <td>1905 - 1914</td>\n",
       "    </tr>\n",
       "    <tr>\n",
       "      <td>21</td>\n",
       "      <td>1906</td>\n",
       "      <td>469</td>\n",
       "      <td>1905 - 1914</td>\n",
       "    </tr>\n",
       "    <tr>\n",
       "      <td>22</td>\n",
       "      <td>1907</td>\n",
       "      <td>481</td>\n",
       "      <td>1905 - 1914</td>\n",
       "    </tr>\n",
       "    <tr>\n",
       "      <td>23</td>\n",
       "      <td>1908</td>\n",
       "      <td>488</td>\n",
       "      <td>1905 - 1914</td>\n",
       "    </tr>\n",
       "    <tr>\n",
       "      <td>24</td>\n",
       "      <td>1909</td>\n",
       "      <td>466</td>\n",
       "      <td>1905 - 1914</td>\n",
       "    </tr>\n",
       "    <tr>\n",
       "      <td>25</td>\n",
       "      <td>1910</td>\n",
       "      <td>462</td>\n",
       "      <td>1905 - 1914</td>\n",
       "    </tr>\n",
       "    <tr>\n",
       "      <td>26</td>\n",
       "      <td>1911</td>\n",
       "      <td>473</td>\n",
       "      <td>1905 - 1914</td>\n",
       "    </tr>\n",
       "    <tr>\n",
       "      <td>27</td>\n",
       "      <td>1912</td>\n",
       "      <td>530</td>\n",
       "      <td>1905 - 1914</td>\n",
       "    </tr>\n",
       "    <tr>\n",
       "      <td>28</td>\n",
       "      <td>1913</td>\n",
       "      <td>662</td>\n",
       "      <td>1905 - 1914</td>\n",
       "    </tr>\n",
       "    <tr>\n",
       "      <td>29</td>\n",
       "      <td>1914</td>\n",
       "      <td>651</td>\n",
       "      <td>1905 - 1914</td>\n",
       "    </tr>\n",
       "    <tr>\n",
       "      <td>30</td>\n",
       "      <td>1915</td>\n",
       "      <td>587</td>\n",
       "      <td>1915 - 1924</td>\n",
       "    </tr>\n",
       "    <tr>\n",
       "      <td>31</td>\n",
       "      <td>1916</td>\n",
       "      <td>515</td>\n",
       "      <td>1915 - 1924</td>\n",
       "    </tr>\n",
       "    <tr>\n",
       "      <td>32</td>\n",
       "      <td>1917</td>\n",
       "      <td>526</td>\n",
       "      <td>1915 - 1924</td>\n",
       "    </tr>\n",
       "    <tr>\n",
       "      <td>33</td>\n",
       "      <td>1918</td>\n",
       "      <td>503</td>\n",
       "      <td>1915 - 1924</td>\n",
       "    </tr>\n",
       "    <tr>\n",
       "      <td>34</td>\n",
       "      <td>1919</td>\n",
       "      <td>503</td>\n",
       "      <td>1915 - 1924</td>\n",
       "    </tr>\n",
       "    <tr>\n",
       "      <td>35</td>\n",
       "      <td>1920</td>\n",
       "      <td>503</td>\n",
       "      <td>1915 - 1924</td>\n",
       "    </tr>\n",
       "    <tr>\n",
       "      <td>36</td>\n",
       "      <td>1921</td>\n",
       "      <td>515</td>\n",
       "      <td>1915 - 1924</td>\n",
       "    </tr>\n",
       "    <tr>\n",
       "      <td>37</td>\n",
       "      <td>1922</td>\n",
       "      <td>522</td>\n",
       "      <td>1915 - 1924</td>\n",
       "    </tr>\n",
       "    <tr>\n",
       "      <td>38</td>\n",
       "      <td>1923</td>\n",
       "      <td>492</td>\n",
       "      <td>1915 - 1924</td>\n",
       "    </tr>\n",
       "    <tr>\n",
       "      <td>39</td>\n",
       "      <td>1924</td>\n",
       "      <td>503</td>\n",
       "      <td>1915 - 1924</td>\n",
       "    </tr>\n",
       "  </tbody>\n",
       "</table>\n",
       "</div>"
      ],
      "text/plain": [
       "    year  baltimore-liters-percapita-perday       decade\n",
       "0   1885                                356  1885 - 1894\n",
       "1   1886                                386  1885 - 1894\n",
       "2   1887                                397  1885 - 1894\n",
       "3   1888                                397  1885 - 1894\n",
       "4   1889                                413  1885 - 1894\n",
       "5   1890                                458  1885 - 1894\n",
       "6   1891                                485  1885 - 1894\n",
       "7   1892                                344  1885 - 1894\n",
       "8   1893                                390  1885 - 1894\n",
       "9   1894                                360  1885 - 1894\n",
       "10  1895                                420  1895 - 1904\n",
       "11  1896                                435  1895 - 1904\n",
       "12  1897                                439  1895 - 1904\n",
       "13  1898                                454  1895 - 1904\n",
       "14  1899                                462  1895 - 1904\n",
       "15  1900                                454  1895 - 1904\n",
       "16  1901                                469  1895 - 1904\n",
       "17  1902                                500  1895 - 1904\n",
       "18  1903                                492  1895 - 1904\n",
       "19  1904                                473  1895 - 1904\n",
       "20  1905                                458  1905 - 1914\n",
       "21  1906                                469  1905 - 1914\n",
       "22  1907                                481  1905 - 1914\n",
       "23  1908                                488  1905 - 1914\n",
       "24  1909                                466  1905 - 1914\n",
       "25  1910                                462  1905 - 1914\n",
       "26  1911                                473  1905 - 1914\n",
       "27  1912                                530  1905 - 1914\n",
       "28  1913                                662  1905 - 1914\n",
       "29  1914                                651  1905 - 1914\n",
       "30  1915                                587  1915 - 1924\n",
       "31  1916                                515  1915 - 1924\n",
       "32  1917                                526  1915 - 1924\n",
       "33  1918                                503  1915 - 1924\n",
       "34  1919                                503  1915 - 1924\n",
       "35  1920                                503  1915 - 1924\n",
       "36  1921                                515  1915 - 1924\n",
       "37  1922                                522  1915 - 1924\n",
       "38  1923                                492  1915 - 1924\n",
       "39  1924                                503  1915 - 1924"
      ]
     },
     "execution_count": 39,
     "metadata": {},
     "output_type": "execute_result"
    }
   ],
   "source": [
    "dataset"
   ]
  },
  {
   "cell_type": "markdown",
   "metadata": {},
   "source": [
    "#### Melihat visualisasi data pada setiap dekade"
   ]
  },
  {
   "cell_type": "code",
   "execution_count": 40,
   "metadata": {},
   "outputs": [],
   "source": [
    "to94 = dataset[dataset['decade'] == '1885 - 1894']\n",
    "to04 = dataset[dataset['decade'] == '1895 - 1904']\n",
    "to14 = dataset[dataset['decade'] == '1905 - 1914']\n",
    "to24 = dataset[dataset['decade'] == '1915 - 1924']"
   ]
  },
  {
   "cell_type": "code",
   "execution_count": 41,
   "metadata": {},
   "outputs": [
    {
     "data": {
      "text/plain": [
       "Text(0.5,1,'Baltimore water used per capita in 1915-1925')"
      ]
     },
     "execution_count": 41,
     "metadata": {},
     "output_type": "execute_result"
    },
    {
     "data": {
      "image/png": "[encoded data removed]",
      "text/plain": [
       "<matplotlib.figure.Figure at 0x2101fda86d8>"
      ]
     },
     "metadata": {},
     "output_type": "display_data"
    }
   ],
   "source": [
    "ax=plt.figure(figsize=(15,10))\n",
    "ax.add_subplot(2,2,1)\n",
    "sns.lineplot(x=\"year\", y=\"baltimore-liters-percapita-perday\",data=to94).set_title('Baltimore water used per capita in 1885-1894')\n",
    "ax.add_subplot(2,2,2)\n",
    "sns.lineplot(x=\"year\", y=\"baltimore-liters-percapita-perday\",data=to04).set_title('Baltimore water used per capita in 1895-1904')\n",
    "ax.add_subplot(2,2,3)\n",
    "sns.lineplot(x=\"year\", y=\"baltimore-liters-percapita-perday\",data=to14).set_title('Baltimore water used per capita in 1905-1914')\n",
    "ax.add_subplot(2,2,4)\n",
    "sns.lineplot(x=\"year\", y=\"baltimore-liters-percapita-perday\",data=to24).set_title('Baltimore water used per capita in 1915-1925')"
   ]
  },
  {
   "cell_type": "markdown",
   "metadata": {},
   "source": [
    "Dapat dilihat bahwasanya 3 dekade awal (1885-1894, 1895-1904, 1905-1914) memperkuat asumsi kita bahwasanya terjadi peningkatan signifikan di beberapa periode tertentu. Setelah dibagi sesuai dekadenya, terlihat bahwasanya ada tren peningkatan di akhir dekade. <br>\n",
    "\n",
    "Tetapi, hal ini tidak terbukti di akhir dekade dataset kita. Bahkan malah terjadi penurunan pada penggunaan air di Baltimore."
   ]
  },
  {
   "cell_type": "markdown",
   "metadata": {},
   "source": [
    "#### Melihat penjumlahan hasil air di baltimore per dekade"
   ]
  },
  {
   "cell_type": "code",
   "execution_count": 42,
   "metadata": {},
   "outputs": [
    {
     "data": {
      "text/html": [
       "<div>\n",
       "<style scoped>\n",
       "    .dataframe tbody tr th:only-of-type {\n",
       "        vertical-align: middle;\n",
       "    }\n",
       "\n",
       "    .dataframe tbody tr th {\n",
       "        vertical-align: top;\n",
       "    }\n",
       "\n",
       "    .dataframe thead th {\n",
       "        text-align: right;\n",
       "    }\n",
       "</style>\n",
       "<table border=\"1\" class=\"dataframe\">\n",
       "  <thead>\n",
       "    <tr style=\"text-align: right;\">\n",
       "      <th></th>\n",
       "      <th>year</th>\n",
       "      <th>baltimore-liters-percapita-perday</th>\n",
       "      <th>decade</th>\n",
       "    </tr>\n",
       "  </thead>\n",
       "  <tbody>\n",
       "    <tr>\n",
       "      <td>0</td>\n",
       "      <td>1885</td>\n",
       "      <td>356</td>\n",
       "      <td>1885 - 1894</td>\n",
       "    </tr>\n",
       "    <tr>\n",
       "      <td>1</td>\n",
       "      <td>1886</td>\n",
       "      <td>386</td>\n",
       "      <td>1885 - 1894</td>\n",
       "    </tr>\n",
       "    <tr>\n",
       "      <td>2</td>\n",
       "      <td>1887</td>\n",
       "      <td>397</td>\n",
       "      <td>1885 - 1894</td>\n",
       "    </tr>\n",
       "    <tr>\n",
       "      <td>3</td>\n",
       "      <td>1888</td>\n",
       "      <td>397</td>\n",
       "      <td>1885 - 1894</td>\n",
       "    </tr>\n",
       "    <tr>\n",
       "      <td>4</td>\n",
       "      <td>1889</td>\n",
       "      <td>413</td>\n",
       "      <td>1885 - 1894</td>\n",
       "    </tr>\n",
       "  </tbody>\n",
       "</table>\n",
       "</div>"
      ],
      "text/plain": [
       "   year  baltimore-liters-percapita-perday       decade\n",
       "0  1885                                356  1885 - 1894\n",
       "1  1886                                386  1885 - 1894\n",
       "2  1887                                397  1885 - 1894\n",
       "3  1888                                397  1885 - 1894\n",
       "4  1889                                413  1885 - 1894"
      ]
     },
     "execution_count": 42,
     "metadata": {},
     "output_type": "execute_result"
    }
   ],
   "source": [
    "dataset.head()"
   ]
  },
  {
   "cell_type": "code",
   "execution_count": 43,
   "metadata": {},
   "outputs": [
    {
     "data": {
      "text/html": [
       "<div>\n",
       "<style scoped>\n",
       "    .dataframe tbody tr th:only-of-type {\n",
       "        vertical-align: middle;\n",
       "    }\n",
       "\n",
       "    .dataframe tbody tr th {\n",
       "        vertical-align: top;\n",
       "    }\n",
       "\n",
       "    .dataframe thead th {\n",
       "        text-align: right;\n",
       "    }\n",
       "</style>\n",
       "<table border=\"1\" class=\"dataframe\">\n",
       "  <thead>\n",
       "    <tr style=\"text-align: right;\">\n",
       "      <th></th>\n",
       "      <th>decade</th>\n",
       "      <th>sum-of-baltimore-liters-percapita-perdecade</th>\n",
       "    </tr>\n",
       "  </thead>\n",
       "  <tbody>\n",
       "    <tr>\n",
       "      <td>0</td>\n",
       "      <td>1885 - 1894</td>\n",
       "      <td>3986</td>\n",
       "    </tr>\n",
       "    <tr>\n",
       "      <td>1</td>\n",
       "      <td>1895 - 1904</td>\n",
       "      <td>4598</td>\n",
       "    </tr>\n",
       "    <tr>\n",
       "      <td>2</td>\n",
       "      <td>1905 - 1914</td>\n",
       "      <td>5140</td>\n",
       "    </tr>\n",
       "    <tr>\n",
       "      <td>3</td>\n",
       "      <td>1915 - 1924</td>\n",
       "      <td>5169</td>\n",
       "    </tr>\n",
       "  </tbody>\n",
       "</table>\n",
       "</div>"
      ],
      "text/plain": [
       "        decade sum-of-baltimore-liters-percapita-perdecade\n",
       "0  1885 - 1894                                        3986\n",
       "1  1895 - 1904                                        4598\n",
       "2  1905 - 1914                                        5140\n",
       "3  1915 - 1924                                        5169"
      ]
     },
     "execution_count": 43,
     "metadata": {},
     "output_type": "execute_result"
    }
   ],
   "source": [
    "dataset2 = dataset[['decade','baltimore-liters-percapita-perday']]\n",
    "dataset2 = dataset2.groupby('decade').sum()\n",
    "dataset2 = dataset2[dataset2['baltimore-liters-percapita-perday']!=0]\n",
    "dataset2['decade'] = dataset.decade.unique()\n",
    "decade_list= dataset2['decade'].tolist()\n",
    "baltimore_list= dataset2['baltimore-liters-percapita-perday'].tolist()\n",
    "dataset3 = [decade_list,baltimore_list]\n",
    "dataset3 = pd.DataFrame(dataset3)\n",
    "dataset3 = dataset3.T\n",
    "dataset3.columns=['decade','sum-of-baltimore-liters-percapita-perdecade']\n",
    "dataset3.head()"
   ]
  },
  {
   "cell_type": "code",
   "execution_count": 44,
   "metadata": {},
   "outputs": [
    {
     "data": {
      "text/plain": [
       "decade                                         category\n",
       "sum-of-baltimore-liters-percapita-perdecade       int64\n",
       "dtype: object"
      ]
     },
     "execution_count": 44,
     "metadata": {},
     "output_type": "execute_result"
    }
   ],
   "source": [
    "dataset3.astype({'decade': 'category','sum-of-baltimore-liters-percapita-perdecade':'int64'}).dtypes"
   ]
  },
  {
   "cell_type": "code",
   "execution_count": 45,
   "metadata": {},
   "outputs": [
    {
     "data": {
      "image/png": "[encoded data removed]",
      "text/plain": [
       "<matplotlib.figure.Figure at 0x2102027ad30>"
      ]
     },
     "metadata": {},
     "output_type": "display_data"
    }
   ],
   "source": [
    "ax = sns.barplot(x=\"decade\", y=\"sum-of-baltimore-liters-percapita-perdecade\", data=dataset3).set_title('Sum of water usage in Baltimore per decade')"
   ]
  },
  {
   "cell_type": "markdown",
   "metadata": {},
   "source": [
    "Visualisasi diatas sangat mungkin terjadi. Melihat bahwasanya dengan seiring bertambahnya waktu, terjadi peningkatan jumlah penggunaan air (dengan asumsi jumlah penduduk juga ikut meningkat) pada setiap dekadenya."
   ]
  },
  {
   "cell_type": "markdown",
   "metadata": {},
   "source": [
    "### V. Create models using ARIMA"
   ]
  },
  {
   "cell_type": "markdown",
   "metadata": {},
   "source": [
    "#### I. Split the dataset into train and test sets directly <br>\n",
    "#### II. The first 50% of the dataset will be held back to train the model. <br>\n",
    "#### III. The remaining 50% of the dataset will be iterated and test the model. <br>"
   ]
  },
  {
   "cell_type": "code",
   "execution_count": 46,
   "metadata": {},
   "outputs": [],
   "source": [
    "dataset = df[:40]\n",
    "validation = df[40:]"
   ]
  },
  {
   "cell_type": "markdown",
   "metadata": {},
   "source": [
    "#### IV.The ARIMA(p,d,q) model requires three parameters and is traditionally configured manually."
   ]
  },
  {
   "cell_type": "code",
   "execution_count": 47,
   "metadata": {},
   "outputs": [
    {
     "data": {
      "text/html": [
       "<div>\n",
       "<style scoped>\n",
       "    .dataframe tbody tr th:only-of-type {\n",
       "        vertical-align: middle;\n",
       "    }\n",
       "\n",
       "    .dataframe tbody tr th {\n",
       "        vertical-align: top;\n",
       "    }\n",
       "\n",
       "    .dataframe thead th {\n",
       "        text-align: right;\n",
       "    }\n",
       "</style>\n",
       "<table border=\"1\" class=\"dataframe\">\n",
       "  <thead>\n",
       "    <tr style=\"text-align: right;\">\n",
       "      <th></th>\n",
       "      <th>baltimore-liters-percapita-perday</th>\n",
       "    </tr>\n",
       "    <tr>\n",
       "      <th>year</th>\n",
       "      <th></th>\n",
       "    </tr>\n",
       "  </thead>\n",
       "  <tbody>\n",
       "    <tr>\n",
       "      <td>1885</td>\n",
       "      <td>356</td>\n",
       "    </tr>\n",
       "    <tr>\n",
       "      <td>1886</td>\n",
       "      <td>386</td>\n",
       "    </tr>\n",
       "    <tr>\n",
       "      <td>1887</td>\n",
       "      <td>397</td>\n",
       "    </tr>\n",
       "    <tr>\n",
       "      <td>1888</td>\n",
       "      <td>397</td>\n",
       "    </tr>\n",
       "    <tr>\n",
       "      <td>1889</td>\n",
       "      <td>413</td>\n",
       "    </tr>\n",
       "  </tbody>\n",
       "</table>\n",
       "</div>"
      ],
      "text/plain": [
       "      baltimore-liters-percapita-perday\n",
       "year                                   \n",
       "1885                                356\n",
       "1886                                386\n",
       "1887                                397\n",
       "1888                                397\n",
       "1889                                413"
      ]
     },
     "execution_count": 47,
     "metadata": {},
     "output_type": "execute_result"
    }
   ],
   "source": [
    "dataset = dataset.set_index('year')\n",
    "validation = validation.set_index('year')\n",
    "dataset.head()"
   ]
  },
  {
   "cell_type": "code",
   "execution_count": 48,
   "metadata": {},
   "outputs": [
    {
     "data": {
      "text/plain": [
       "[<matplotlib.lines.Line2D at 0x21020598b00>]"
      ]
     },
     "execution_count": 48,
     "metadata": {},
     "output_type": "execute_result"
    },
    {
     "data": {
      "image/png": "[encoded data removed]",
      "text/plain": [
       "<matplotlib.figure.Figure at 0x210202e69b0>"
      ]
     },
     "metadata": {},
     "output_type": "display_data"
    }
   ],
   "source": [
    "time = dataset.copy()\n",
    "time['baltimore-liters-percapita-perday']=time['baltimore-liters-percapita-perday']-time['baltimore-liters-percapita-perday'].shift()\n",
    "plt.plot(time['baltimore-liters-percapita-perday'])"
   ]
  },
  {
   "cell_type": "code",
   "execution_count": 49,
   "metadata": {},
   "outputs": [
    {
     "data": {
      "text/html": [
       "<div>\n",
       "<style scoped>\n",
       "    .dataframe tbody tr th:only-of-type {\n",
       "        vertical-align: middle;\n",
       "    }\n",
       "\n",
       "    .dataframe tbody tr th {\n",
       "        vertical-align: top;\n",
       "    }\n",
       "\n",
       "    .dataframe thead th {\n",
       "        text-align: right;\n",
       "    }\n",
       "</style>\n",
       "<table border=\"1\" class=\"dataframe\">\n",
       "  <thead>\n",
       "    <tr style=\"text-align: right;\">\n",
       "      <th></th>\n",
       "      <th>baltimore-liters-percapita-perday</th>\n",
       "    </tr>\n",
       "    <tr>\n",
       "      <th>year</th>\n",
       "      <th></th>\n",
       "    </tr>\n",
       "  </thead>\n",
       "  <tbody>\n",
       "    <tr>\n",
       "      <td>1885</td>\n",
       "      <td>NaN</td>\n",
       "    </tr>\n",
       "    <tr>\n",
       "      <td>1886</td>\n",
       "      <td>30.0</td>\n",
       "    </tr>\n",
       "    <tr>\n",
       "      <td>1887</td>\n",
       "      <td>11.0</td>\n",
       "    </tr>\n",
       "    <tr>\n",
       "      <td>1888</td>\n",
       "      <td>0.0</td>\n",
       "    </tr>\n",
       "    <tr>\n",
       "      <td>1889</td>\n",
       "      <td>16.0</td>\n",
       "    </tr>\n",
       "  </tbody>\n",
       "</table>\n",
       "</div>"
      ],
      "text/plain": [
       "      baltimore-liters-percapita-perday\n",
       "year                                   \n",
       "1885                                NaN\n",
       "1886                               30.0\n",
       "1887                               11.0\n",
       "1888                                0.0\n",
       "1889                               16.0"
      ]
     },
     "execution_count": 49,
     "metadata": {},
     "output_type": "execute_result"
    }
   ],
   "source": [
    "time.head()"
   ]
  },
  {
   "cell_type": "code",
   "execution_count": 50,
   "metadata": {},
   "outputs": [
    {
     "data": {
      "image/png": "[encoded data removed]",
      "text/plain": [
       "<matplotlib.figure.Figure at 0x2102026dbe0>"
      ]
     },
     "metadata": {},
     "output_type": "display_data"
    }
   ],
   "source": [
    "rolmean=time.rolling(window=2).mean()\n",
    "rolstd=time.rolling(window=2).std()\n",
    "plt.plot(time)\n",
    "plt.plot(rolmean,color='red',label='Roling Mean')\n",
    "plt.plot(rolstd,color='black',label='Roling STD')\n",
    "plt.legend(loc='best')\n",
    "plt.show()"
   ]
  },
  {
   "cell_type": "code",
   "execution_count": 51,
   "metadata": {},
   "outputs": [],
   "source": [
    "time = time[1:]"
   ]
  },
  {
   "cell_type": "code",
   "execution_count": 52,
   "metadata": {},
   "outputs": [
    {
     "name": "stdout",
     "output_type": "stream",
     "text": [
      "Dickey-fuller test\n",
      "(-4.528364793453499, 0.00017469150331606093, 1, 37, {'1%': -3.6209175221605827, '5%': -2.9435394610388332, '10%': -2.6104002410518627}, 278.14460196379787)\n"
     ]
    },
    {
     "data": {
      "text/plain": [
       "Test Stat             -4.528365\n",
       "p-value                0.000175\n",
       "lag_used               1.000000\n",
       "number of obs used    37.000000\n",
       "dtype: float64"
      ]
     },
     "execution_count": 52,
     "metadata": {},
     "output_type": "execute_result"
    }
   ],
   "source": [
    "from statsmodels.tsa.stattools import acf,pacf\n",
    "from statsmodels.tsa.stattools import adfuller\n",
    "\n",
    "print('Dickey-fuller test')\n",
    "dftest=adfuller(time['baltimore-liters-percapita-perday'],autolag='AIC')\n",
    "print(dftest)\n",
    "dfoutput=pd.Series(dftest[0:4],index=['Test Stat','p-value','lag_used','number of obs used'])\n",
    "dfoutput"
   ]
  },
  {
   "cell_type": "code",
   "execution_count": 53,
   "metadata": {},
   "outputs": [
    {
     "data": {
      "image/png": "[encoded data removed]",
      "text/plain": [
       "<matplotlib.figure.Figure at 0x2101fe73ef0>"
      ]
     },
     "metadata": {},
     "output_type": "display_data"
    },
    {
     "data": {
      "image/png": "[encoded data removed]",
      "text/plain": [
       "<matplotlib.figure.Figure at 0x2101fc1ab38>"
      ]
     },
     "metadata": {},
     "output_type": "display_data"
    }
   ],
   "source": [
    "import statsmodels.graphics.tsaplots as sts\n",
    "sts.plot_acf(dataset,lags=20) #AR\n",
    "sts.plot_pacf(dataset,lags=20) #MA\n",
    "#I from variable time (shift)\n",
    "plt.show()"
   ]
  },
  {
   "cell_type": "code",
   "execution_count": 54,
   "metadata": {},
   "outputs": [],
   "source": [
    "from pmdarima import auto_arima"
   ]
  },
  {
   "cell_type": "code",
   "execution_count": 55,
   "metadata": {},
   "outputs": [
    {
     "name": "stdout",
     "output_type": "stream",
     "text": [
      "Fit ARIMA: order=(2, 0, 2) seasonal_order=(0, 0, 0, 1); AIC=402.915, BIC=412.897, Fit time=0.436 seconds\n",
      "Fit ARIMA: order=(0, 0, 0) seasonal_order=(0, 0, 0, 1); AIC=404.168, BIC=407.495, Fit time=0.008 seconds\n",
      "Fit ARIMA: order=(1, 0, 0) seasonal_order=(0, 0, 0, 1); AIC=406.166, BIC=411.157, Fit time=0.048 seconds\n",
      "Fit ARIMA: order=(0, 0, 1) seasonal_order=(0, 0, 0, 1); AIC=406.166, BIC=411.156, Fit time=0.072 seconds\n",
      "Fit ARIMA: order=(1, 0, 2) seasonal_order=(0, 0, 0, 1); AIC=403.400, BIC=411.718, Fit time=0.220 seconds\n",
      "Fit ARIMA: order=(3, 0, 2) seasonal_order=(0, 0, 0, 1); AIC=404.837, BIC=416.482, Fit time=0.328 seconds\n",
      "Fit ARIMA: order=(2, 0, 1) seasonal_order=(0, 0, 0, 1); AIC=402.526, BIC=410.844, Fit time=0.252 seconds\n",
      "Fit ARIMA: order=(1, 0, 1) seasonal_order=(0, 0, 0, 1); AIC=408.161, BIC=414.815, Fit time=0.096 seconds\n",
      "Fit ARIMA: order=(3, 0, 1) seasonal_order=(0, 0, 0, 1); AIC=403.307, BIC=413.288, Fit time=0.180 seconds\n",
      "Fit ARIMA: order=(2, 0, 0) seasonal_order=(0, 0, 0, 1); AIC=407.838, BIC=414.493, Fit time=0.112 seconds\n",
      "Total fit time: 1.764 seconds\n"
     ]
    }
   ],
   "source": [
    "model = auto_arima(time, trace=True, error_action='ignore', suppress_warnings=True)"
   ]
  },
  {
   "cell_type": "code",
   "execution_count": 56,
   "metadata": {},
   "outputs": [],
   "source": [
    "from statsmodels.tsa.arima_model import ARIMA\n",
    "from sklearn.metrics import mean_squared_error,mean_absolute_error\n",
    "import numpy as np"
   ]
  },
  {
   "cell_type": "code",
   "execution_count": 65,
   "metadata": {},
   "outputs": [],
   "source": [
    "models=[0,1,0] #pakai data asli\n",
    "model=ARIMA(np.float64(dataset),order=models) #diffrecing jadi 1\n",
    "result_ARIMA=model.fit(disp=1)\n",
    "predict=result_ARIMA.fittedvalues"
   ]
  },
  {
   "cell_type": "code",
   "execution_count": 66,
   "metadata": {},
   "outputs": [
    {
     "name": "stdout",
     "output_type": "stream",
     "text": [
      "RMSE: 552.2720079894314\n",
      "MAE : 548.9743589743591\n"
     ]
    }
   ],
   "source": [
    "print('RMSE:',sqrt(mean_squared_error(validation, predict)))\n",
    "print('MAE :',mean_absolute_error(validation,predict))"
   ]
  },
  {
   "cell_type": "code",
   "execution_count": 68,
   "metadata": {},
   "outputs": [],
   "source": [
    "models=[3,1,2] #pakai data asli\n",
    "model=ARIMA(np.float64(dataset),order=models) #diffrecing jadi 1\n",
    "result_ARIMA=model.fit(disp=1)\n",
    "predict=result_ARIMA.fittedvalues"
   ]
  },
  {
   "cell_type": "markdown",
   "metadata": {},
   "source": [
    "#### VI. Calculate the RMSE using the helper function from the scikit-learn library, from dataset only"
   ]
  },
  {
   "cell_type": "code",
   "execution_count": 69,
   "metadata": {},
   "outputs": [
    {
     "name": "stdout",
     "output_type": "stream",
     "text": [
      "RMSE: 555.1821304030835\n",
      "MAE : 551.6771657253657\n"
     ]
    }
   ],
   "source": [
    "print('RMSE:',sqrt(mean_squared_error(validation, predict)))\n",
    "print('MAE :',mean_absolute_error(validation,predict))"
   ]
  },
  {
   "cell_type": "markdown",
   "metadata": {},
   "source": [
    "#### Prediction"
   ]
  },
  {
   "cell_type": "code",
   "execution_count": 72,
   "metadata": {},
   "outputs": [
    {
     "data": {
      "image/png": "[encoded data removed]",
      "text/plain": [
       "<matplotlib.figure.Figure at 0x21022cad2b0>"
      ]
     },
     "metadata": {},
     "output_type": "display_data"
    }
   ],
   "source": [
    "result_ARIMA.plot_predict(1,50)\n",
    "x=result_ARIMA.forecast(steps=70)"
   ]
  }
 ],
 "metadata": {
  "kernelspec": {
   "display_name": "Python 3",
   "language": "python",
   "name": "python3"
  },
  "language_info": {
   "codemirror_mode": {
    "name": "ipython",
    "version": 3
   },
   "file_extension": ".py",
   "mimetype": "text/x-python",
   "name": "python",
   "nbconvert_exporter": "python",
   "pygments_lexer": "ipython3",
   "version": "3.6.9"
  }
 },
 "nbformat": 4,
 "nbformat_minor": 2
}
